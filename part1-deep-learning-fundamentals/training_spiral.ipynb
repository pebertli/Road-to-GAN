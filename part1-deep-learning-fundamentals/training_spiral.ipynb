{
 "metadata": {
  "language_info": {
   "codemirror_mode": {
    "name": "ipython",
    "version": 3
   },
   "file_extension": ".py",
   "mimetype": "text/x-python",
   "name": "python",
   "nbconvert_exporter": "python",
   "pygments_lexer": "ipython3",
   "version": "3.9.2"
  },
  "orig_nbformat": 2,
  "kernelspec": {
   "name": "python392jvsc74a57bd098393cdabe821fa5276deeff2609ab236a18bb0acff879b009cb9063c8de4d36",
   "display_name": "Python 3.9.2 64-bit"
  },
  "metadata": {
   "interpreter": {
    "hash": "98393cdabe821fa5276deeff2609ab236a18bb0acff879b009cb9063c8de4d36"
   }
  }
 },
 "nbformat": 4,
 "nbformat_minor": 2,
 "cells": [
  {
   "source": [
    "## Import"
   ],
   "cell_type": "markdown",
   "metadata": {}
  },
  {
   "cell_type": "code",
   "execution_count": 5,
   "metadata": {},
   "outputs": [],
   "source": [
    " %matplotlib inline\n",
    "\n",
    "import random\n",
    "import torch\n",
    "from torch import nn, optim\n",
    "import math\n",
    "from IPython import display\n",
    "import matplotlib.pyplot as plt\n",
    "import numpy as np\n",
    "from matplotlib.animation import FuncAnimation\n",
    "from matplotlib.pyplot import axhline, axvline, grid, style\n",
    "import seaborn\n",
    "seaborn.set(style='ticks')\n",
    "style.use('seaborn')\n",
    "\n",
    "device = torch.device(\"cuda:0\" if torch.cuda.is_available() else \"cpu\")\n",
    "\n",
    "px = 1/plt.rcParams['figure.dpi']  # inches to pixels\n"
   ]
  },
  {
   "source": [
    "## Data"
   ],
   "cell_type": "markdown",
   "metadata": {}
  },
  {
   "cell_type": "code",
   "execution_count": 6,
   "metadata": {},
   "outputs": [],
   "source": [
    "random.seed(12345)\n",
    "torch.manual_seed(12345)\n",
    "N = 1000\n",
    "C = 3\n",
    "I = 2\n",
    "\n",
    "X = torch.zeros(N * C, I).to(device)\n",
    "y = torch.zeros(N * C, dtype=torch.long).to(device)\n",
    "for c in range(C):\n",
    "    index = 0\n",
    "    t = torch.linspace(0, 1, N)    \n",
    "    inner_var = torch.linspace((2 * math.pi / C) * (c), (2 * math.pi / C) * (2 + c), N) + torch.randn(N) * 0.2\n",
    "    \n",
    "    for ix in range(N * c, N * (c + 1)):\n",
    "        X[ix] = t[index] * torch.FloatTensor((math.sin(inner_var[index]), math.cos(inner_var[index])))\n",
    "        y[ix] = c\n",
    "        index += 1"
   ]
  },
  {
   "source": [
    "## Model and Training Definition"
   ],
   "cell_type": "markdown",
   "metadata": {}
  },
  {
   "cell_type": "code",
   "execution_count": 7,
   "metadata": {},
   "outputs": [],
   "source": [
    "learning_rate = 1e-3\n",
    "lambda_l2 = 1e-5\n",
    "\n",
    "model = nn.Sequential(\n",
    "    nn.Linear(2, 50, bias = True),\n",
    "    nn.ReLU(),\n",
    "    nn.Linear(50, 50, bias = True),\n",
    "    nn.ReLU(),\n",
    "    nn.Linear(50, 3, bias = True)\n",
    ")\n",
    "model.to(device)\n",
    "\n",
    "criterion = torch.nn.CrossEntropyLoss()\n",
    "\n",
    "optimizer = torch.optim.Adam(model.parameters(), lr=learning_rate, weight_decay=lambda_l2)\n",
    "\n",
    "# Training Def\n",
    "def epoch(epoch):\n",
    "\n",
    "    model.to(device)\n",
    "    y_pred = model(X)\n",
    "\n",
    "    loss = criterion(y_pred, y)    \n",
    "\n",
    "    optimizer.zero_grad()\n",
    "\n",
    "    loss.backward()\n",
    "\n",
    "    optimizer.step()\n",
    "    return loss"
   ]
  },
  {
   "cell_type": "code",
   "execution_count": 8,
   "metadata": {},
   "outputs": [],
   "source": [
    "%matplotlib tk\n",
    "\n",
    "fig, (ax, axloss) = plt.subplots(ncols=2, figsize=(960*px, 480*px))\n",
    "\n",
    "ax.set(xlim=(-1.1, 1.1), ylim=(-1.1, 1.1))\n",
    "ax.set_xlabel('Age')\n",
    "ax.set_ylabel('Body Weight')\n",
    "\n",
    "axloss.set(xlim=(0, 1000), ylim=(0, 1))\n",
    "axloss.set_xlabel('Epoch')\n",
    "axloss.set_ylabel('Loss')\n",
    "\n",
    "mesh = np.arange(-1.1, 1.1, 0.01)\n",
    "xx, yy = np.meshgrid(mesh, mesh)\n",
    "data = torch.from_numpy(np.vstack((xx.reshape(-1), yy.reshape(-1))).T).float()\n",
    "result = np.zeros([220,220])\n",
    "\n",
    "model.cpu()\n",
    "with torch.no_grad():\n",
    "    Z = model(data).detach()\n",
    "Z = np.argmax(Z, axis=1).reshape(xx.shape)\n",
    "p = [ax.contourf(xx, yy, Z, alpha=0.3)]\n",
    "pl, = axloss.plot([])\n",
    "\n",
    "sc = ax.scatter(X.cpu().numpy()[:, 0], X.cpu().numpy()[:, 1], c=y.cpu(), s=20, cmap=plt.cm.Paired_r)\n",
    "vmin = min(xx.min(), yy.min(), Z.min())\n",
    "vmax = max(xx.max(), yy.max(), Z.max())\n",
    "def plot_contour():        \n",
    "    if p[0] != None:\n",
    "        for collection in p[0].collections:\n",
    "            collection.remove()\n",
    "    \n",
    "    model.cpu()\n",
    "    with torch.no_grad():\n",
    "        Z = model(data).detach()\n",
    "    Z = np.argmax(Z, axis=1).reshape(xx.shape)    \n",
    "\n",
    "    p[0] = ax.contourf(xx, yy, Z, cmap=plt.cm.Paired_r, alpha=0.3, vmin=vmin, vmax=vmax)\n",
    "    return p[0]\n",
    "\n",
    "titleLoss = axloss.text(0.5,0.85, \"\", bbox={'facecolor':'w', 'alpha':0.5, 'pad':5},\n",
    "                transform=axloss.transAxes, ha=\"center\")\n",
    "\n",
    "epochs = np.arange(0, 1000)\n",
    "yloss = np.zeros(1000)\n",
    "\n",
    "def animate(i):\n",
    "    loss = epoch(i)\n",
    "    yloss[i] = loss.item()\n",
    "\n",
    "    contour = plot_contour()\n",
    "    pl.set_data(epochs[:i], yloss[:i])    \n",
    "    titleLoss.set_text(\"Epoch %d / Loss %.3f\" % (i, loss.item()))\n",
    "\n",
    "    return pl,\n",
    "\n",
    "anim = FuncAnimation(fig, animate, frames = epochs, interval=1, repeat=False, blit = False)\n",
    "# anim.save('./fig/training_spiral1.gif', writer='pillow', fps=30, dpi = 100)\n",
    "plt.show()"
   ]
  }
 ]
}