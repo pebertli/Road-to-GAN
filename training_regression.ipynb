{
 "metadata": {
  "language_info": {
   "codemirror_mode": {
    "name": "ipython",
    "version": 3
   },
   "file_extension": ".py",
   "mimetype": "text/x-python",
   "name": "python",
   "nbconvert_exporter": "python",
   "pygments_lexer": "ipython3",
   "version": "3.9.2"
  },
  "orig_nbformat": 2,
  "kernelspec": {
   "name": "python392jvsc74a57bd098393cdabe821fa5276deeff2609ab236a18bb0acff879b009cb9063c8de4d36",
   "display_name": "Python 3.9.2 64-bit"
  },
  "metadata": {
   "interpreter": {
    "hash": "98393cdabe821fa5276deeff2609ab236a18bb0acff879b009cb9063c8de4d36"
   }
  }
 },
 "nbformat": 4,
 "nbformat_minor": 2,
 "cells": [
  {
   "source": [
    "## Import"
   ],
   "cell_type": "markdown",
   "metadata": {}
  },
  {
   "cell_type": "code",
   "execution_count": 16,
   "metadata": {},
   "outputs": [],
   "source": [
    " %matplotlib inline\n",
    "\n",
    "import random\n",
    "import torch\n",
    "from torch import nn, optim\n",
    "import math\n",
    "from IPython import display\n",
    "import matplotlib.pyplot as plt\n",
    "import numpy as np\n",
    "from matplotlib.animation import FuncAnimation\n",
    "from matplotlib.pyplot import axhline, axvline, grid, style\n",
    "import seaborn\n",
    "seaborn.set(style='ticks')\n",
    "style.use('seaborn')\n",
    "\n",
    "device = torch.device(\"cuda:0\" if torch.cuda.is_available() else \"cpu\")\n",
    "\n",
    "px = 1/plt.rcParams['figure.dpi']  # inches to pixels"
   ]
  },
  {
   "source": [
    "## Data"
   ],
   "cell_type": "markdown",
   "metadata": {}
  },
  {
   "cell_type": "code",
   "execution_count": 17,
   "metadata": {},
   "outputs": [],
   "source": [
    "X = torch.unsqueeze(torch.linspace(-1, 1, 100), dim=1).to(device)\n",
    "y = X.pow(2)*torch.sin(X*10) + 0.1 * torch.rand(X.size()).to(device)"
   ]
  },
  {
   "source": [
    "## Model and Training Definition"
   ],
   "cell_type": "markdown",
   "metadata": {}
  },
  {
   "cell_type": "code",
   "execution_count": 18,
   "metadata": {},
   "outputs": [],
   "source": [
    "random.seed(12345)\n",
    "torch.manual_seed(12345)\n",
    "N = 1000\n",
    "C = 1 \n",
    "I = 1 \n",
    "\n",
    "learning_rate = 1e-3\n",
    "lambda_l2 = 1e-5\n",
    "\n",
    "model = nn.Sequential(\n",
    "    nn.Linear(1, 300, bias = True),\n",
    "    nn.ReLU(),\n",
    "    nn.Linear(300, 1, bias = True)\n",
    ")\n",
    "model.to(device)\n",
    "\n",
    "criterion = torch.nn.MSELoss()\n",
    "\n",
    "optimizer = torch.optim.Adam(model.parameters(), lr=learning_rate, weight_decay=lambda_l2)\n",
    "\n",
    "# Training def\n",
    "def epoch(epoch):\n",
    "\n",
    "    model.to(device)\n",
    "    y_pred = model(X)\n",
    "\n",
    "    loss = criterion(y_pred, y)\n",
    "    score, predicted = torch.max(y_pred, 1)    \n",
    "    acc = (y == predicted).sum().float() / len(y)\n",
    "\n",
    "    optimizer.zero_grad()\n",
    "\n",
    "    loss.backward()\n",
    "\n",
    "    optimizer.step()\n",
    "    return loss, y_pred"
   ]
  },
  {
   "source": [
    "## Training"
   ],
   "cell_type": "markdown",
   "metadata": {}
  },
  {
   "cell_type": "code",
   "execution_count": 21,
   "metadata": {},
   "outputs": [],
   "source": [
    "%matplotlib tk\n",
    "\n",
    "numbers = X[:,:].data.cpu().numpy()\n",
    "\n",
    "fig, (ax, axloss) = plt.subplots(ncols=2, figsize=(960*px, 480*px))\n",
    "\n",
    "ax.set(xlim=(-1.1, 1.1), ylim=(-1.1, 1.1))\n",
    "ax.set_xlabel('x')\n",
    "ax.set_ylabel('y')\n",
    "\n",
    "axloss.set(xlim=(0, 1000), ylim=(0, 1))\n",
    "axloss.set_xlabel('Epoch')\n",
    "axloss.set_ylabel('Loss')\n",
    "\n",
    "line1 = ax.plot([], [], color='tomato', lw=3)[0]\n",
    "line2 = axloss.plot([], [], 'b-', lw=3)[0]\n",
    "\n",
    "sc = ax.scatter(X.cpu().numpy()[:, 0], y.cpu().numpy()[:, 0], s=20, cmap=plt.cm.Paired_r)\n",
    "\n",
    "titleLoss = axloss.text(0.5,0.85, \"\", bbox={'facecolor':'w', 'alpha':0.5, 'pad':5},\n",
    "                transform=axloss.transAxes, ha=\"center\")\n",
    "\n",
    "epochs = np.arange(0, 1000)\n",
    "yloss = np.zeros(1000)\n",
    "\n",
    "def animate(i):\n",
    "    l, y_pred = epoch(i)          \n",
    "    yloss[i] = l.item()  \n",
    "\n",
    "    line1.set_data(numbers, y_pred.detach().cpu())\n",
    "    line2.set_data(epochs[:i], yloss[:i])\n",
    "    titleLoss.set_text(\"Epoch %d / Loss %.3f\" % (i, l.item()))\n",
    "\n",
    "    return [line1, line2, titleLoss]\n",
    "\n",
    "anim = FuncAnimation(fig, animate, frames = epochs, interval=1, repeat=False, blit = True)\n",
    "# anim.save('./fig/training_regression1.gif', writer='pillow', fps=30, dpi = 100)\n",
    "plt.show()"
   ]
  },
  {
   "source": [
    "## Extrapolation"
   ],
   "cell_type": "markdown",
   "metadata": {}
  },
  {
   "cell_type": "code",
   "execution_count": 22,
   "metadata": {},
   "outputs": [],
   "source": [
    "%matplotlib tk\n",
    "\n",
    "XTest = torch.unsqueeze(torch.linspace(-2, 2, steps=200), dim=1).to(device)\n",
    "yTest = model(XTest)\n",
    "\n",
    "fig, ax = plt.subplots(figsize=(480*px, 480*px))\n",
    "\n",
    "ax.set(xlim=(-2.1, 2.1), ylim=(-2.1, 2.1))\n",
    "ax.set_xlabel('x')\n",
    "ax.set_ylabel('y')\n",
    "line1 = ax.plot([], [], color='tomato', lw=3)[0]\n",
    "\n",
    "sc = ax.scatter(X.cpu().numpy()[:, 0], y.cpu().numpy()[:, 0], s=20, cmap=plt.cm.Paired_r)\n",
    "\n",
    "numbers = XTest[:,:].data.cpu().numpy()\n",
    "line1 = ax.plot(numbers, yTest.detach().cpu(), color='tomato', lw=3)[0]\n",
    "\n",
    "fig.show()"
   ]
  }
 ]
}